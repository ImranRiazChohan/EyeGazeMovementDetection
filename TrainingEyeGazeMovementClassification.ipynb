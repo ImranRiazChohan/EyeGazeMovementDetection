{
  "nbformat": 4,
  "nbformat_minor": 0,
  "metadata": {
    "colab": {
      "name": "TrainingEyeGazeMovementClassification.ipynb",
      "provenance": [],
      "mount_file_id": "1x01NeSyIvRH80cEKM64sLa0i9xcFAU6T",
      "authorship_tag": "ABX9TyMT1zgQtrriVdUDs05OzvX6",
      "include_colab_link": true
    },
    "kernelspec": {
      "name": "python3",
      "display_name": "Python 3"
    },
    "language_info": {
      "name": "python"
    },
    "accelerator": "GPU"
  },
  "cells": [
    {
      "cell_type": "markdown",
      "metadata": {
        "id": "view-in-github",
        "colab_type": "text"
      },
      "source": [
        "<a href=\"https://colab.research.google.com/github/ImranRiazChohan/EyeGazeMovementDetection/blob/main/TrainingEyeGazeMovementClassification.ipynb\" target=\"_parent\"><img src=\"https://colab.research.google.com/assets/colab-badge.svg\" alt=\"Open In Colab\"/></a>"
      ]
    },
    {
      "cell_type": "code",
      "execution_count": 73,
      "metadata": {
        "id": "MOD4Mzf_Qv0W"
      },
      "outputs": [],
      "source": [
        "import numpy as np\n",
        "import pandas as pd\n",
        "import cv2\n",
        "import tensorflow as tf\n",
        "from tensorflow.keras.layers import Dense,Flatten,Dropout,Conv2D,MaxPooling2D\n",
        "from tensorflow.keras.models import Sequential,Model\n",
        "from tensorflow.keras.preprocessing.image import ImageDataGenerator\n",
        "from tensorflow.keras.preprocessing.image import load_img\n",
        "from tensorflow.keras.optimizers import Adam,RMSprop\n",
        "from tensorflow.keras.losses import categorical_crossentropy,sparse_categorical_crossentropy\n",
        "from tensorflow.keras.metrics import Accuracy\n",
        "import matplotlib.pyplot as plt\n",
        "import os\n",
        "from tensorflow.keras.callbacks import EarlyStopping\n",
        "from tensorflow.keras.applications.inception_v3 import InceptionV3\n",
        "from tensorflow.keras.applications.resnet50 import ResNet50\n",
        "from tensorflow.keras.applications.vgg16 import VGG16 \n",
        "from google.colab.patches import cv2_imshow"
      ]
    },
    {
      "cell_type": "code",
      "source": [
        "#Read Data From Directory\n",
        "Orignal_dir=\"/content/drive/MyDrive/Internship_TechroticsLab/EyeGazeMovementDetector/EyeData\"\n",
        "Train_data_dir=os.path.join(Orignal_dir,\"train\")\n",
        "train_center=os.path.join(Train_data_dir,\"center\")\n",
        "train_left=os.path.join(Train_data_dir,\"left\")\n",
        "train_right=os.path.join(Train_data_dir,\"right\")"
      ],
      "metadata": {
        "id": "BhL3Jq_RUrQ8"
      },
      "execution_count": 46,
      "outputs": []
    },
    {
      "cell_type": "code",
      "source": [
        "left_data=os.listdir(train_left)\n",
        "center_data=os.listdir(train_center)\n",
        "right_data=os.listdir(train_right)"
      ],
      "metadata": {
        "id": "Eaf36vAudRuA"
      },
      "execution_count": 47,
      "outputs": []
    },
    {
      "cell_type": "code",
      "source": [
        "print(\" Left Data\",len(left_data),\"\\n\",\"Right Data\",\n",
        "len(right_data),\"\\n\",\"Center Data\", \n",
        "len(center_data))"
      ],
      "metadata": {
        "id": "eE1AyThAdZFg",
        "colab": {
          "base_uri": "https://localhost:8080/"
        },
        "outputId": "306942fe-f930-473a-b4f7-7084da3dd3a8"
      },
      "execution_count": 48,
      "outputs": [
        {
          "output_type": "stream",
          "name": "stdout",
          "text": [
            " Left Data 1224 \n",
            " Right Data 1173 \n",
            " Center Data 1225\n"
          ]
        }
      ]
    },
    {
      "cell_type": "code",
      "source": [
        "train_left_img=[]\n",
        "for i in range(len(left_data)):\n",
        "  path=train_left+\"/\"+left_data[i]\n",
        "  img=cv2.imread(path)\n",
        "  img=cv2.cvtColor(img,cv2.COLOR_BGR2GRAY)\n",
        "  cvt_img=cv2.resize(img,(75,75),1)\n",
        "  train_left_img.append(cvt_img)"
      ],
      "metadata": {
        "id": "A0dWAhgCJKfs"
      },
      "execution_count": 55,
      "outputs": []
    },
    {
      "cell_type": "code",
      "source": [
        "train_left_img[0].shape"
      ],
      "metadata": {
        "colab": {
          "base_uri": "https://localhost:8080/"
        },
        "id": "v9YUPufRT6BK",
        "outputId": "aaf4246b-6f5a-4d59-a3d5-79bcabdc5a77"
      },
      "execution_count": 56,
      "outputs": [
        {
          "output_type": "execute_result",
          "data": {
            "text/plain": [
              "(75, 75)"
            ]
          },
          "metadata": {},
          "execution_count": 56
        }
      ]
    },
    {
      "cell_type": "code",
      "source": [
        "train_right_img=[]\n",
        "for i in range(len(right_data)):\n",
        "  path=train_right+\"/\"+right_data[i]\n",
        "  img=cv2.imread(path)\n",
        "  img=cv2.cvtColor(img,cv2.COLOR_BGR2GRAY)\n",
        "  cvt_img=cv2.resize(img,(75,75),1)\n",
        "  train_right_img.append(cvt_img)\n"
      ],
      "metadata": {
        "id": "HYTJfmiBLzs5"
      },
      "execution_count": 57,
      "outputs": []
    },
    {
      "cell_type": "code",
      "source": [
        "train_center_img=[]\n",
        "for i in range(len(center_data)):\n",
        "  path=train_center+\"/\"+center_data[i]\n",
        "  img=cv2.imread(path)\n",
        "  img=cv2.cvtColor(img,cv2.COLOR_BGR2GRAY)\n",
        "  cvt_img=cv2.resize(img,(75,75),1)\n",
        "  train_center_img.append(cvt_img)"
      ],
      "metadata": {
        "id": "1lh9TlHDLz-r"
      },
      "execution_count": 58,
      "outputs": []
    },
    {
      "cell_type": "code",
      "source": [
        "for i in range(0,5):\n",
        "  cv2_imshow(train_left_img[i])\n",
        "  print(train_left_img[i].shape)"
      ],
      "metadata": {
        "colab": {
          "base_uri": "https://localhost:8080/",
          "height": 478
        },
        "id": "3bJnyYmXLPyD",
        "outputId": "a2e49988-a754-48da-a722-111b54c196d5"
      },
      "execution_count": 59,
      "outputs": [
        {
          "output_type": "display_data",
          "data": {
            "text/plain": [
              "<PIL.Image.Image image mode=L size=75x75 at 0x7FD09EAD0A10>"
            ],
            "image/png": "[encoded data removed]"
          },
          "metadata": {}
        },
        {
          "output_type": "stream",
          "name": "stdout",
          "text": [
            "(75, 75)\n"
          ]
        },
        {
          "output_type": "display_data",
          "data": {
            "text/plain": [
              "<PIL.Image.Image image mode=L size=75x75 at 0x7FD09EAF6150>"
            ],
            "image/png": "[encoded data removed]"
          },
          "metadata": {}
        },
        {
          "output_type": "stream",
          "name": "stdout",
          "text": [
            "(75, 75)\n"
          ]
        },
        {
          "output_type": "display_data",
          "data": {
            "text/plain": [
              "<PIL.Image.Image image mode=L size=75x75 at 0x7FD09EAD0A10>"
            ],
            "image/png": "[encoded data removed]"
          },
          "metadata": {}
        },
        {
          "output_type": "stream",
          "name": "stdout",
          "text": [
            "(75, 75)\n"
          ]
        },
        {
          "output_type": "display_data",
          "data": {
            "text/plain": [
              "<PIL.Image.Image image mode=L size=75x75 at 0x7FD09EAD0F90>"
            ],
            "image/png": "[encoded data removed]"
          },
          "metadata": {}
        },
        {
          "output_type": "stream",
          "name": "stdout",
          "text": [
            "(75, 75)\n"
          ]
        },
        {
          "output_type": "display_data",
          "data": {
            "text/plain": [
              "<PIL.Image.Image image mode=L size=75x75 at 0x7FD09EAEC290>"
            ],
            "image/png": "[encoded data removed]"
          },
          "metadata": {}
        },
        {
          "output_type": "stream",
          "name": "stdout",
          "text": [
            "(75, 75)\n"
          ]
        }
      ]
    },
    {
      "cell_type": "code",
      "source": [
        "for i in range(0,5):\n",
        "  cv2_imshow(train_right_img[i])\n",
        "  print(train_right_img[i].shape)"
      ],
      "metadata": {
        "colab": {
          "base_uri": "https://localhost:8080/",
          "height": 478
        },
        "id": "q8PfmqOCLxkd",
        "outputId": "ff711f87-12fa-455e-e3be-1c1c0bfd27c2"
      },
      "execution_count": 60,
      "outputs": [
        {
          "output_type": "display_data",
          "data": {
            "text/plain": [
              "<PIL.Image.Image image mode=L size=75x75 at 0x7FCFFE6093D0>"
            ],
            "image/png": "[encoded data removed]"
          },
          "metadata": {}
        },
        {
          "output_type": "stream",
          "name": "stdout",
          "text": [
            "(75, 75)\n"
          ]
        },
        {
          "output_type": "display_data",
          "data": {
            "text/plain": [
              "<PIL.Image.Image image mode=L size=75x75 at 0x7FCFFE609610>"
            ],
            "image/png": "[encoded data removed]"
          },
          "metadata": {}
        },
        {
          "output_type": "stream",
          "name": "stdout",
          "text": [
            "(75, 75)\n"
          ]
        },
        {
          "output_type": "display_data",
          "data": {
            "text/plain": [
              "<PIL.Image.Image image mode=L size=75x75 at 0x7FCFFE609990>"
            ],
            "image/png": "[encoded data removed]"
          },
          "metadata": {}
        },
        {
          "output_type": "stream",
          "name": "stdout",
          "text": [
            "(75, 75)\n"
          ]
        },
        {
          "output_type": "display_data",
          "data": {
            "text/plain": [
              "<PIL.Image.Image image mode=L size=75x75 at 0x7FCFFE58F4D0>"
            ],
            "image/png": "[encoded data removed]"
          },
          "metadata": {}
        },
        {
          "output_type": "stream",
          "name": "stdout",
          "text": [
            "(75, 75)\n"
          ]
        },
        {
          "output_type": "display_data",
          "data": {
            "text/plain": [
              "<PIL.Image.Image image mode=L size=75x75 at 0x7FD09EAEC5D0>"
            ],
            "image/png": "[encoded data removed]"
          },
          "metadata": {}
        },
        {
          "output_type": "stream",
          "name": "stdout",
          "text": [
            "(75, 75)\n"
          ]
        }
      ]
    },
    {
      "cell_type": "code",
      "source": [
        "for i in range (0,5):\n",
        "  cv2_imshow(train_center_img[i])\n",
        "  print(train_center_img[i].shape)"
      ],
      "metadata": {
        "colab": {
          "base_uri": "https://localhost:8080/",
          "height": 478
        },
        "id": "Umt3BCyeYwnY",
        "outputId": "f206327e-d356-442d-acb0-173f6bbbe7bf"
      },
      "execution_count": 61,
      "outputs": [
        {
          "output_type": "display_data",
          "data": {
            "text/plain": [
              "<PIL.Image.Image image mode=L size=75x75 at 0x7FCFFE609310>"
            ],
            "image/png": "[encoded data removed]"
          },
          "metadata": {}
        },
        {
          "output_type": "stream",
          "name": "stdout",
          "text": [
            "(75, 75)\n"
          ]
        },
        {
          "output_type": "display_data",
          "data": {
            "text/plain": [
              "<PIL.Image.Image image mode=L size=75x75 at 0x7FCFFE6091D0>"
            ],
            "image/png": "[encoded data removed]"
          },
          "metadata": {}
        },
        {
          "output_type": "stream",
          "name": "stdout",
          "text": [
            "(75, 75)\n"
          ]
        },
        {
          "output_type": "display_data",
          "data": {
            "text/plain": [
              "<PIL.Image.Image image mode=L size=75x75 at 0x7FCFFE609690>"
            ],
            "image/png": "[encoded data removed]"
          },
          "metadata": {}
        },
        {
          "output_type": "stream",
          "name": "stdout",
          "text": [
            "(75, 75)\n"
          ]
        },
        {
          "output_type": "display_data",
          "data": {
            "text/plain": [
              "<PIL.Image.Image image mode=L size=75x75 at 0x7FD09EAD0590>"
            ],
            "image/png": "[encoded data removed]"
          },
          "metadata": {}
        },
        {
          "output_type": "stream",
          "name": "stdout",
          "text": [
            "(75, 75)\n"
          ]
        },
        {
          "output_type": "display_data",
          "data": {
            "text/plain": [
              "<PIL.Image.Image image mode=L size=75x75 at 0x7FD09EAD0810>"
            ],
            "image/png": "[encoded data removed]"
          },
          "metadata": {}
        },
        {
          "output_type": "stream",
          "name": "stdout",
          "text": [
            "(75, 75)\n"
          ]
        }
      ]
    },
    {
      "cell_type": "code",
      "source": [
        "test_data_dir=os.path.join(Orignal_dir,\"test\")\n",
        "test_center_data=os.path.join(test_data_dir,\"center\")\n",
        "test_left_data=os.path.join(test_data_dir,\"left\")\n",
        "test_right_data=os.path.join(test_data_dir,\"right\")"
      ],
      "metadata": {
        "id": "yUzSHHec7Blz"
      },
      "execution_count": 62,
      "outputs": []
    },
    {
      "cell_type": "code",
      "source": [
        "test_left=os.listdir(test_left_data)\n",
        "test_right=os.listdir(test_right_data)\n",
        "test_center=os.listdir(test_center_data)"
      ],
      "metadata": {
        "id": "PvbSKNHb8JTz"
      },
      "execution_count": 63,
      "outputs": []
    },
    {
      "cell_type": "code",
      "source": [
        "print(\"left:{}\\nright:{}\\ncenter:{}\".format(len(test_left),len(test_right),len(test_center)))"
      ],
      "metadata": {
        "colab": {
          "base_uri": "https://localhost:8080/"
        },
        "id": "MCjqRa0z8gaU",
        "outputId": "febb35ad-b8ed-4e45-872d-4674c20fb1a4"
      },
      "execution_count": 64,
      "outputs": [
        {
          "output_type": "stream",
          "name": "stdout",
          "text": [
            "left:273\n",
            "right:315\n",
            "center:243\n"
          ]
        }
      ]
    },
    {
      "cell_type": "code",
      "source": [
        "test_center_img=[]\n",
        "test_right_img=[]\n",
        "test_left_img=[]\n",
        "\n",
        "for i in range(len(test_center)):\n",
        "  path=test_center_data+\"/\"+test_center[i]\n",
        "  img_center=cv2.imread(path)\n",
        "  img_center=cv2.cvtColor(img_center,cv2.COLOR_BGR2GRAY)\n",
        "  resize_img=cv2.resize(img_center,(75,75),1)\n",
        "  test_center_img.append(resize_img)\n",
        "for i in range(len(test_left)):\n",
        "  path=test_left_data+\"/\"+test_left[i]\n",
        "  img_left=cv2.imread(path)\n",
        "  img_left=cv2.cvtColor(img_left,cv2.COLOR_BGR2GRAY)\n",
        "  resize_img=cv2.resize(img_left,(75,75),1)\n",
        "  test_left_img.append(resize_img)\n",
        "for i in range(len(test_right)):\n",
        "  path=test_right_data+\"/\"+test_right[i]\n",
        "  img_right=cv2.imread(path)\n",
        "  img_right=cv2.cvtColor(img_right,cv2.COLOR_BGR2GRAY)\n",
        "  resize_img=cv2.resize(img_right,(75,75),1)\n",
        "  test_right_img.append(resize_img)\n"
      ],
      "metadata": {
        "id": "riPQNbEkcKKt"
      },
      "execution_count": 66,
      "outputs": []
    },
    {
      "cell_type": "code",
      "source": [
        "train_data_gen=ImageDataGenerator(rotation_range=10,\n",
        "                                  rescale=1./255,\n",
        "                                  width_shift_range=0.1,\n",
        "                                  height_shift_range=0.1,\n",
        "                                  shear_range=0.1,\n",
        "                                  zoom_range=0.1,\n",
        "                                  fill_mode=\"nearest\")\n",
        "test_data_gen=ImageDataGenerator(rescale=1./255)\n",
        "valid_data_gen=ImageDataGenerator(rescale=1./255)"
      ],
      "metadata": {
        "id": "dwxtl6gB84Rk"
      },
      "execution_count": 68,
      "outputs": []
    },
    {
      "cell_type": "code",
      "source": [
        "train_data_gen.flow_from_directory(Train_data_dir)\n",
        "test_data_gen.flow_from_directory(test_data_dir)"
      ],
      "metadata": {
        "colab": {
          "base_uri": "https://localhost:8080/"
        },
        "id": "k6szinX2AlzY",
        "outputId": "f9c12b92-9f70-4806-cf29-39ef3f16948a"
      },
      "execution_count": 69,
      "outputs": [
        {
          "output_type": "stream",
          "name": "stdout",
          "text": [
            "Found 3622 images belonging to 3 classes.\n",
            "Found 831 images belonging to 3 classes.\n"
          ]
        },
        {
          "output_type": "execute_result",
          "data": {
            "text/plain": [
              "<keras.preprocessing.image.DirectoryIterator at 0x7fd09eb2d750>"
            ]
          },
          "metadata": {},
          "execution_count": 69
        }
      ]
    },
    {
      "cell_type": "code",
      "source": [
        "train_set=train_data_gen.flow_from_directory(Train_data_dir,target_size=(75,75),batch_size=16,color_mode=\"grayscale\",class_mode=\"categorical\")\n",
        "test_set=test_data_gen.flow_from_directory(test_data_dir,target_size=(75,75),batch_size=16,color_mode=\"grayscale\",class_mode=\"categorical\")"
      ],
      "metadata": {
        "colab": {
          "base_uri": "https://localhost:8080/"
        },
        "id": "hF-i14igAsO8",
        "outputId": "21c10cb3-e217-4dcb-9e27-d8f2dcff241f"
      },
      "execution_count": 70,
      "outputs": [
        {
          "output_type": "stream",
          "name": "stdout",
          "text": [
            "Found 3622 images belonging to 3 classes.\n",
            "Found 831 images belonging to 3 classes.\n"
          ]
        }
      ]
    },
    {
      "cell_type": "code",
      "source": [
        "train_set.class_indices"
      ],
      "metadata": {
        "colab": {
          "base_uri": "https://localhost:8080/"
        },
        "id": "7hKSWHqcCkJP",
        "outputId": "7733c4c8-405a-419c-a7d7-e5e96e439c1f"
      },
      "execution_count": 71,
      "outputs": [
        {
          "output_type": "execute_result",
          "data": {
            "text/plain": [
              "{'center': 0, 'left': 1, 'right': 2}"
            ]
          },
          "metadata": {},
          "execution_count": 71
        }
      ]
    },
    {
      "cell_type": "code",
      "source": [
        "model=Sequential()\n",
        "model.add(Conv2D(32,(3,3),strides=1,padding=\"same\",input_shape=(75,75,1),activation=\"relu\"))\n",
        "model.add(MaxPooling2D(2,2))\n",
        "\n",
        "model.add(Conv2D(64,(3,3),strides=1,padding=\"same\",input_shape=(75,75,1),activation=\"relu\"))\n",
        "model.add(MaxPooling2D(2,2))\n",
        "\n",
        "model.add(Conv2D(128,(3,3),strides=1,padding=\"same\",input_shape=(75,75,1),activation=\"relu\"))\n",
        "model.add(MaxPooling2D(2,2))\n",
        "\n",
        "model.add(Conv2D(128,(3,3),strides=1,padding=\"same\",input_shape=(75,75,1),activation=\"relu\"))\n",
        "model.add(MaxPooling2D(2,2))\n",
        "\n",
        "model.add(Conv2D(128,(3,3),strides=1,padding=\"same\",input_shape=(75,75,10),activation=\"relu\"))\n",
        "model.add(MaxPooling2D(2,2))\n",
        "model.add(Flatten())\n",
        "\n",
        "model.add(Dense(128,activation=\"relu\"))\n",
        "model.add(Dropout(0.5))\n",
        "model.add(Dense(3,activation=\"sigmoid\"))\n"
      ],
      "metadata": {
        "id": "-8647d8ipEn9"
      },
      "execution_count": 93,
      "outputs": []
    },
    {
      "cell_type": "code",
      "source": [
        "model.summary()"
      ],
      "metadata": {
        "colab": {
          "base_uri": "https://localhost:8080/"
        },
        "id": "0zq05GW0Z_yG",
        "outputId": "6c3a389f-967b-4669-b3fb-f12542187dcb"
      },
      "execution_count": 94,
      "outputs": [
        {
          "output_type": "stream",
          "name": "stdout",
          "text": [
            "Model: \"sequential_5\"\n",
            "_________________________________________________________________\n",
            " Layer (type)                Output Shape              Param #   \n",
            "=================================================================\n",
            " conv2d_106 (Conv2D)         (None, 75, 75, 32)        320       \n",
            "                                                                 \n",
            " max_pooling2d_15 (MaxPoolin  (None, 37, 37, 32)       0         \n",
            " g2D)                                                            \n",
            "                                                                 \n",
            " conv2d_107 (Conv2D)         (None, 37, 37, 64)        18496     \n",
            "                                                                 \n",
            " max_pooling2d_16 (MaxPoolin  (None, 18, 18, 64)       0         \n",
            " g2D)                                                            \n",
            "                                                                 \n",
            " conv2d_108 (Conv2D)         (None, 18, 18, 128)       73856     \n",
            "                                                                 \n",
            " max_pooling2d_17 (MaxPoolin  (None, 9, 9, 128)        0         \n",
            " g2D)                                                            \n",
            "                                                                 \n",
            " conv2d_109 (Conv2D)         (None, 9, 9, 128)         147584    \n",
            "                                                                 \n",
            " max_pooling2d_18 (MaxPoolin  (None, 4, 4, 128)        0         \n",
            " g2D)                                                            \n",
            "                                                                 \n",
            " conv2d_110 (Conv2D)         (None, 4, 4, 128)         147584    \n",
            "                                                                 \n",
            " max_pooling2d_19 (MaxPoolin  (None, 2, 2, 128)        0         \n",
            " g2D)                                                            \n",
            "                                                                 \n",
            " flatten_5 (Flatten)         (None, 512)               0         \n",
            "                                                                 \n",
            " dense_9 (Dense)             (None, 128)               65664     \n",
            "                                                                 \n",
            " dropout_6 (Dropout)         (None, 128)               0         \n",
            "                                                                 \n",
            " dense_10 (Dense)            (None, 3)                 387       \n",
            "                                                                 \n",
            "=================================================================\n",
            "Total params: 453,891\n",
            "Trainable params: 453,891\n",
            "Non-trainable params: 0\n",
            "_________________________________________________________________\n"
          ]
        }
      ]
    },
    {
      "cell_type": "code",
      "source": [
        "model.compile(optimizer=\"Adam\",loss=\"categorical_crossentropy\",metrics=[\"acc\"])"
      ],
      "metadata": {
        "id": "phKM83W2aSgQ"
      },
      "execution_count": 95,
      "outputs": []
    },
    {
      "cell_type": "code",
      "source": [
        "callback=EarlyStopping(monitor='val_loss',patience=2)"
      ],
      "metadata": {
        "id": "1GPmTrrqbe1R"
      },
      "execution_count": 96,
      "outputs": []
    },
    {
      "cell_type": "code",
      "source": [
        "history=model.fit(train_set,validation_data=test_set,epochs=10,callbacks=[callback])"
      ],
      "metadata": {
        "colab": {
          "base_uri": "https://localhost:8080/"
        },
        "id": "BUsrMsoqb9F_",
        "outputId": "18f08b32-cfeb-4b33-e498-ea72b2e065f2"
      },
      "execution_count": 97,
      "outputs": [
        {
          "output_type": "stream",
          "name": "stdout",
          "text": [
            "Epoch 1/10\n",
            "227/227 [==============================] - 10s 43ms/step - loss: 0.2346 - acc: 0.9045 - val_loss: 0.0655 - val_acc: 0.9771\n",
            "Epoch 2/10\n",
            "227/227 [==============================] - 10s 42ms/step - loss: 0.0407 - acc: 0.9892 - val_loss: 0.0029 - val_acc: 0.9988\n",
            "Epoch 3/10\n",
            "227/227 [==============================] - 9s 42ms/step - loss: 0.0331 - acc: 0.9881 - val_loss: 0.0124 - val_acc: 0.9976\n",
            "Epoch 4/10\n",
            "227/227 [==============================] - 9s 42ms/step - loss: 0.0295 - acc: 0.9909 - val_loss: 0.0023 - val_acc: 0.9988\n",
            "Epoch 5/10\n",
            "227/227 [==============================] - 10s 43ms/step - loss: 0.0208 - acc: 0.9950 - val_loss: 0.0039 - val_acc: 0.9988\n",
            "Epoch 6/10\n",
            "227/227 [==============================] - 10s 43ms/step - loss: 0.0183 - acc: 0.9950 - val_loss: 0.0041 - val_acc: 0.9976\n"
          ]
        }
      ]
    },
    {
      "cell_type": "code",
      "source": [
        ""
      ],
      "metadata": {
        "id": "wgdaiwYFl59p"
      },
      "execution_count": null,
      "outputs": []
    }
  ]
}