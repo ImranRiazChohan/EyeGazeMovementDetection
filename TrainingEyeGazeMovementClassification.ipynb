{
  "nbformat": 4,
  "nbformat_minor": 0,
  "metadata": {
    "colab": {
      "name": "TrainingEyeGazeMovementClassification.ipynb",
      "provenance": [],
      "mount_file_id": "1x01NeSyIvRH80cEKM64sLa0i9xcFAU6T",
      "authorship_tag": "ABX9TyMXfqTc34396wUrrVDBjTHM",
      "include_colab_link": true
    },
    "kernelspec": {
      "name": "python3",
      "display_name": "Python 3"
    },
    "language_info": {
      "name": "python"
    }
  },
  "cells": [
    {
      "cell_type": "markdown",
      "metadata": {
        "id": "view-in-github",
        "colab_type": "text"
      },
      "source": [
        "<a href=\"https://colab.research.google.com/github/ImranRiazChohan/EyeGazeMovementDetection/blob/main/TrainingEyeGazeMovementClassification.ipynb\" target=\"_parent\"><img src=\"https://colab.research.google.com/assets/colab-badge.svg\" alt=\"Open In Colab\"/></a>"
      ]
    },
    {
      "cell_type": "code",
      "execution_count": 1,
      "metadata": {
        "id": "MOD4Mzf_Qv0W"
      },
      "outputs": [],
      "source": [
        "import numpy as np\n",
        "import pandas as pd\n",
        "import cv2\n",
        "import tensorflow as tf\n",
        "from tensorflow.keras.layers import Dense,Flatten,Dropout,MaxPool2D\n",
        "from tensorflow.keras.models import Sequential \n",
        "from tensorflow.keras.preprocessing.image import ImageDataGenerator\n",
        "from tensorflow.keras.preprocessing.image import load_img\n",
        "from tensorflow.keras.optimizers import Adam,RMSprop\n",
        "from tensorflow.keras.losses import categorical_crossentropy,sparse_categorical_crossentropy\n",
        "from tensorflow.keras.metrics import Accuracy\n",
        "import matplotlib.pyplot as plt\n",
        "import os\n",
        "from tensorflow.keras.applications.inception_v3 import InceptionV3\n",
        "from tensorflow.keras.applications.resnet50 import ResNet50\n",
        "from tensorflow.keras.applications.vgg16 import VGG16 "
      ]
    },
    {
      "cell_type": "code",
      "source": [
        "#Read Data From Directory\n",
        "Orignal_dir=\"/content/drive/MyDrive/Internship_TechroticsLab/EyeGazeMovementDetector/EyeData\"\n",
        "Train_data_dir=os.path.join(Orignal_dir,\"train\")\n",
        "train_center=os.path.join(Train_data_dir,\"center\")\n",
        "train_left=os.path.join(Train_data_dir,\"left\")\n",
        "train_right=os.path.join(Train_data_dir,\"right\")"
      ],
      "metadata": {
        "id": "BhL3Jq_RUrQ8"
      },
      "execution_count": 2,
      "outputs": []
    },
    {
      "cell_type": "code",
      "source": [
        "left_data=os.listdir(train_left)\n",
        "center_data=os.listdir(train_center)\n",
        "right_data=os.listdir(train_right)"
      ],
      "metadata": {
        "id": "Eaf36vAudRuA"
      },
      "execution_count": 4,
      "outputs": []
    },
    {
      "cell_type": "code",
      "source": [
        "print(len(left_data),\n",
        "len(right_data),\n",
        "len(center_data))"
      ],
      "metadata": {
        "id": "eE1AyThAdZFg",
        "colab": {
          "base_uri": "https://localhost:8080/"
        },
        "outputId": "690f82ba-c223-447a-bf68-426b61b3d876"
      },
      "execution_count": 6,
      "outputs": [
        {
          "output_type": "stream",
          "name": "stdout",
          "text": [
            "1224 1173 1225\n"
          ]
        }
      ]
    },
    {
      "cell_type": "code",
      "source": [
        ""
      ],
      "metadata": {
        "id": "3bJnyYmXLPyD"
      },
      "execution_count": 8,
      "outputs": []
    },
    {
      "cell_type": "code",
      "source": [
        ""
      ],
      "metadata": {
        "id": "q8PfmqOCLxkd"
      },
      "execution_count": null,
      "outputs": []
    }
  ]
}