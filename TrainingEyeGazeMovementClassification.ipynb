{
  "nbformat": 4,
  "nbformat_minor": 0,
  "metadata": {
    "colab": {
      "name": "TrainingEyeGazeMovementClassification.ipynb",
      "provenance": [],
      "mount_file_id": "1x01NeSyIvRH80cEKM64sLa0i9xcFAU6T",
      "authorship_tag": "ABX9TyNfF14XWPi/BB0OsP+VsF63",
      "include_colab_link": true
    },
    "kernelspec": {
      "name": "python3",
      "display_name": "Python 3"
    },
    "language_info": {
      "name": "python"
    }
  },
  "cells": [
    {
      "cell_type": "markdown",
      "metadata": {
        "id": "view-in-github",
        "colab_type": "text"
      },
      "source": [
        "<a href=\"https://colab.research.google.com/github/ImranRiazChohan/EyeGazeMovementDetection/blob/main/TrainingEyeGazeMovementClassification.ipynb\" target=\"_parent\"><img src=\"https://colab.research.google.com/assets/colab-badge.svg\" alt=\"Open In Colab\"/></a>"
      ]
    },
    {
      "cell_type": "code",
      "execution_count": 1,
      "metadata": {
        "id": "MOD4Mzf_Qv0W"
      },
      "outputs": [],
      "source": [
        "import numpy as np\n",
        "import pandas as pd\n",
        "import cv2\n",
        "import tensorflow as tf\n",
        "from tensorflow.keras.layers import Dense,Flatten\n",
        "from tensorflow.keras.models import Sequential \n",
        "from tensorflow.keras.preprocessing.image import ImageDataGenerator\n",
        "from tensorflow.keras.preprocessing.image import load_img\n",
        "from tensorflow.keras.optimizers import Adam,RMSprop\n",
        "from tensorflow.keras.losses import categorical_crossentropy,sparse_categorical_crossentropy\n",
        "from tensorflow.keras.metrics import Accuracy\n",
        "import matplotlib.pyplot as plt\n",
        "import os\n",
        "from tensorflow.keras.applications.inception_v3 import InceptionV3\n",
        "from tensorflow.keras.applications.resnet50 import ResNet50\n",
        "from tensorflow.keras.applications.vgg16 import VGG16 \n",
        "from google.colab.patches import cv2_imshow"
      ]
    },
    {
      "cell_type": "code",
      "source": [
        "#Read Data From Directory\n",
        "Orignal_dir=\"/content/drive/MyDrive/Internship_TechroticsLab/EyeGazeMovementDetector/EyeData\"\n",
        "Train_data_dir=os.path.join(Orignal_dir,\"train\")\n",
        "train_center=os.path.join(Train_data_dir,\"center\")\n",
        "train_left=os.path.join(Train_data_dir,\"left\")\n",
        "train_right=os.path.join(Train_data_dir,\"right\")"
      ],
      "metadata": {
        "id": "BhL3Jq_RUrQ8"
      },
      "execution_count": 2,
      "outputs": []
    },
    {
      "cell_type": "code",
      "source": [
        "left_data=os.listdir(train_left)\n",
        "center_data=os.listdir(train_center)\n",
        "right_data=os.listdir(train_right)"
      ],
      "metadata": {
        "id": "Eaf36vAudRuA"
      },
      "execution_count": 3,
      "outputs": []
    },
    {
      "cell_type": "code",
      "source": [
        "print(\" Left Data\",len(left_data),\"\\n\",\"Right Data\",\n",
        "len(right_data),\"\\n\",\"Center Data\", \n",
        "len(center_data))"
      ],
      "metadata": {
        "id": "eE1AyThAdZFg",
        "colab": {
          "base_uri": "https://localhost:8080/"
        },
        "outputId": "5bb7469d-802a-411f-c2b7-500413757890"
      },
      "execution_count": 4,
      "outputs": [
        {
          "output_type": "stream",
          "name": "stdout",
          "text": [
            " Left Data 1224 \n",
            " Right Data 1173 \n",
            " Center Data 1225\n"
          ]
        }
      ]
    },
    {
      "cell_type": "code",
      "source": [
        "for i in range(0,5):\n",
        "  path=train_left+'/'+left_data[i]\n",
        "  image=cv2.imread(path)\n",
        "  cv2_imshow(image)"
      ],
      "metadata": {
        "colab": {
          "base_uri": "https://localhost:8080/",
          "height": 297
        },
        "id": "3bJnyYmXLPyD",
        "outputId": "89e9f7ce-c86e-42fc-db65-c1a51fc4e9df"
      },
      "execution_count": 5,
      "outputs": [
        {
          "output_type": "display_data",
          "data": {
            "image/png": "[encoded data removed]",
            "text/plain": [
              "<PIL.Image.Image image mode=RGB size=64x56 at 0x7F3066661250>"
            ]
          },
          "metadata": {}
        },
        {
          "output_type": "display_data",
          "data": {
            "image/png": "[encoded data removed]",
            "text/plain": [
              "<PIL.Image.Image image mode=RGB size=64x56 at 0x7F30EF4058D0>"
            ]
          },
          "metadata": {}
        },
        {
          "output_type": "display_data",
          "data": {
            "image/png": "[encoded data removed]",
            "text/plain": [
              "<PIL.Image.Image image mode=RGB size=64x56 at 0x7F30EF3EC710>"
            ]
          },
          "metadata": {}
        },
        {
          "output_type": "display_data",
          "data": {
            "image/png": "[encoded data removed]",
            "text/plain": [
              "<PIL.Image.Image image mode=RGB size=64x56 at 0x7F30EF4056D0>"
            ]
          },
          "metadata": {}
        },
        {
          "output_type": "display_data",
          "data": {
            "image/png": "[encoded data removed]",
            "text/plain": [
              "<PIL.Image.Image image mode=RGB size=64x56 at 0x7F3066601DD0>"
            ]
          },
          "metadata": {}
        }
      ]
    },
    {
      "cell_type": "code",
      "source": [
        "for i in range(0,5):\n",
        "  path=train_right+'/'+right_data[i]\n",
        "  image=cv2.imread(path)\n",
        "  cv2_imshow(image)"
      ],
      "metadata": {
        "colab": {
          "base_uri": "https://localhost:8080/",
          "height": 297
        },
        "id": "q8PfmqOCLxkd",
        "outputId": "154f213a-7567-438d-e65e-aad64fd0029f"
      },
      "execution_count": 6,
      "outputs": [
        {
          "output_type": "display_data",
          "data": {
            "image/png": "[encoded data removed]",
            "text/plain": [
              "<PIL.Image.Image image mode=RGB size=64x56 at 0x7F3066608C90>"
            ]
          },
          "metadata": {}
        },
        {
          "output_type": "display_data",
          "data": {
            "image/png": "[encoded data removed]",
            "text/plain": [
              "<PIL.Image.Image image mode=RGB size=64x56 at 0x7F3066597810>"
            ]
          },
          "metadata": {}
        },
        {
          "output_type": "display_data",
          "data": {
            "image/png": "[encoded data removed]",
            "text/plain": [
              "<PIL.Image.Image image mode=RGB size=64x56 at 0x7F3066597710>"
            ]
          },
          "metadata": {}
        },
        {
          "output_type": "display_data",
          "data": {
            "image/png": "[encoded data removed]",
            "text/plain": [
              "<PIL.Image.Image image mode=RGB size=64x56 at 0x7F306661FBD0>"
            ]
          },
          "metadata": {}
        },
        {
          "output_type": "display_data",
          "data": {
            "image/png": "[encoded data removed]",
            "text/plain": [
              "<PIL.Image.Image image mode=RGB size=64x56 at 0x7F306661FBD0>"
            ]
          },
          "metadata": {}
        }
      ]
    },
    {
      "cell_type": "code",
      "source": [
        "for i in range (0,5):\n",
        "  path=train_center+\"/\"+center_data[i]\n",
        "  image=cv2.imread(path)\n",
        "  cv2_imshow(image)\n",
        "  print(image.shape)"
      ],
      "metadata": {
        "colab": {
          "base_uri": "https://localhost:8080/",
          "height": 384
        },
        "id": "Umt3BCyeYwnY",
        "outputId": "ad4ab588-4189-4020-b94a-a88f3a8156ee"
      },
      "execution_count": 7,
      "outputs": [
        {
          "output_type": "display_data",
          "data": {
            "image/png": "[encoded data removed]",
            "text/plain": [
              "<PIL.Image.Image image mode=RGB size=64x56 at 0x7F30EF4051D0>"
            ]
          },
          "metadata": {}
        },
        {
          "output_type": "stream",
          "name": "stdout",
          "text": [
            "(56, 64, 3)\n"
          ]
        },
        {
          "output_type": "display_data",
          "data": {
            "image/png": "[encoded data removed]",
            "text/plain": [
              "<PIL.Image.Image image mode=RGB size=64x56 at 0x7F30EF405790>"
            ]
          },
          "metadata": {}
        },
        {
          "output_type": "stream",
          "name": "stdout",
          "text": [
            "(56, 64, 3)\n"
          ]
        },
        {
          "output_type": "display_data",
          "data": {
            "image/png": "[encoded data removed]",
            "text/plain": [
              "<PIL.Image.Image image mode=RGB size=64x56 at 0x7F30EF405790>"
            ]
          },
          "metadata": {}
        },
        {
          "output_type": "stream",
          "name": "stdout",
          "text": [
            "(56, 64, 3)\n"
          ]
        },
        {
          "output_type": "display_data",
          "data": {
            "image/png": "[encoded data removed]",
            "text/plain": [
              "<PIL.Image.Image image mode=RGB size=64x56 at 0x7F30EF405790>"
            ]
          },
          "metadata": {}
        },
        {
          "output_type": "stream",
          "name": "stdout",
          "text": [
            "(56, 64, 3)\n"
          ]
        },
        {
          "output_type": "display_data",
          "data": {
            "image/png": "[encoded data removed]",
            "text/plain": [
              "<PIL.Image.Image image mode=RGB size=64x56 at 0x7F30665FD7D0>"
            ]
          },
          "metadata": {}
        },
        {
          "output_type": "stream",
          "name": "stdout",
          "text": [
            "(56, 64, 3)\n"
          ]
        }
      ]
    },
    {
      "cell_type": "code",
      "source": [
        "image.ndim"
      ],
      "metadata": {
        "colab": {
          "base_uri": "https://localhost:8080/"
        },
        "id": "Znxp9iFfZD9k",
        "outputId": "495625be-e74b-4475-b2b3-9c474606dd4c"
      },
      "execution_count": 8,
      "outputs": [
        {
          "output_type": "execute_result",
          "data": {
            "text/plain": [
              "3"
            ]
          },
          "metadata": {},
          "execution_count": 8
        }
      ]
    },
    {
      "cell_type": "code",
      "source": [
        "test_data_dir=os.path.join(Orignal_dir,\"test\")\n",
        "test_center_data=os.path.join(test_data_dir,\"center\")\n",
        "test_left_data=os.path.join(test_data_dir,\"left\")\n",
        "test_right_data=os.path.join(test_data_dir,\"right\")"
      ],
      "metadata": {
        "id": "yUzSHHec7Blz"
      },
      "execution_count": 10,
      "outputs": []
    },
    {
      "cell_type": "code",
      "source": [
        "test_left=os.listdir(test_center_data)\n",
        "test_right=os.listdir(test_right_data)\n",
        "test_center=os.listdir(test_center_data)"
      ],
      "metadata": {
        "id": "PvbSKNHb8JTz"
      },
      "execution_count": 11,
      "outputs": []
    },
    {
      "cell_type": "code",
      "source": [
        "print(\"left:{}\\nright:{}\\ncenter:{}\".format(len(test_left),len(test_right),len(test_center)))"
      ],
      "metadata": {
        "colab": {
          "base_uri": "https://localhost:8080/"
        },
        "id": "MCjqRa0z8gaU",
        "outputId": "dd2731a1-7c44-4b2a-88a2-9252ca92a0dd"
      },
      "execution_count": 13,
      "outputs": [
        {
          "output_type": "stream",
          "name": "stdout",
          "text": [
            "left:243\n",
            "right:315\n",
            "center:243\n"
          ]
        }
      ]
    },
    {
      "cell_type": "code",
      "source": [
        "train_data_gen=ImageDataGenerator(rotation_range=10,\n",
        "                                  rescale=1./255,\n",
        "                                  width_shift_range=0.1,\n",
        "                                  height_shift_range=0.1,\n",
        "                                  shear_range=0.1,\n",
        "                                  zoom_range=0.1,\n",
        "                                  fill_mode=\"nearest\")\n",
        "test_data_gen=ImageDataGenerator(rescale=1./255)\n",
        "valid_data_gen=ImageDataGenerator(rescale=1./255)"
      ],
      "metadata": {
        "id": "dwxtl6gB84Rk"
      },
      "execution_count": null,
      "outputs": []
    }
  ]
}